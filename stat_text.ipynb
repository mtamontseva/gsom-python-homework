spisok = []
slova = 0
stroki = 0
bukva_up = 0
bukva_low = 0
digits = 0
spaces = 0
with open('text.txt', 'r') as file:
    for line in file:
        spisok.append(line.strip().split())
        slova = slova + len(spisok)
        stroki = stroki + 1
        for i in line:
            if i.isalpha():
                if i.isupper():
                    bukva_up = bukva_up + 1
                elif i.islower():
                    bukva_low = bukva_low + 1
            if i.isdigit():
                digits = digits + 1
            if i.isspace():
                spaces = spaces + 1
print(round(slova / stroki))
print(bukva_up)
print(bukva_low)
print(digits)
print(spaces)
