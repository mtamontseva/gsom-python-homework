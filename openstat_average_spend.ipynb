import csv

graph = dict()

with open('opendata.stat.txt', 'r', encoding='utf8') as file:
    data = csv.reader(file)
    for row in data:
        if row[0] == 'Средние траты в ресторане' and row[1] == 'Кировская область' and row[2][:4] == '2017':
            graph[row[2][5:7]] = int(row[3])

import numpy as np

import matplotlib.pyplot as plt
%matplotlib inline

x_coords = list(graph.keys())
y_coords = list(graph.values())

plt.plot(x_coords, y_coords)

plt.show()
