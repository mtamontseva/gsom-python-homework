import csv

years_brak = dict()

with open('braki.stat.txt', 'r', encoding='utf8') as file:
    stat = csv.reader(file)
    for row in stat:
        if row[0] == 'Годы':
            continue
        else:
            years_brak[int(row[0])] = int(row[1])

years_razv = dict()

with open('razvodi.stat.txt', 'r', encoding='utf8') as file:
    stat = csv.reader(file)
    for row in stat:
        if row[0] == 'Годы':
            continue
        else:
            years_razv[int(row[0])] = int(row[1])
            
import numpy as np

import matplotlib.pyplot as plt
%matplotlib inline

x_coords_brak = list(years_brak.keys())
y_coords_brak = list(years_brak.values())
x_coords_razv = list(years_razv.keys())
y_coords_razv = list(years_razv.values())

plt.plot(x_coords_brak, y_coords_brak,x_coords_razv, y_coords_razv)

plt.show()
