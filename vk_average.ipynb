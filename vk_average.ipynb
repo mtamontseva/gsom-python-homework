import csv

reach = dict()

with open('vk_group_reach.stat.txt', 'r', encoding='utf8') as file:
    stat = csv.reader(file)
    for row in stat:
        if row[0] == 'Дата':
            continue
        else:
            reach[row[2]] = int(row[7])
    for i in sorted(reach, key = reach.get, reverse = True): #записи с наибольшим полным охватом
        print(i, reach[i])

#среднее число публикаций в месяц
months = {}
publ_number =  0
with open('vk_group_reach.stat.txt', 'r', encoding='utf8') as file:
    stat = csv.reader(file)
    for row in stat:
        if row[0] == 'Дата':
            continue
        else:
            if row[0][5:7] in months:
                months[row[0][5:7]] += 1
            else:
                months[row[0][5:7]] = 1
print('Среднее число публикаций в месяц:', sum(months.values())/12)
